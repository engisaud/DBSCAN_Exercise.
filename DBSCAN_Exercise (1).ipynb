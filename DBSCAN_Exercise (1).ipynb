{
  "nbformat": 4,
  "nbformat_minor": 0,
  "metadata": {
    "colab": {
      "provenance": []
    },
    "kernelspec": {
      "name": "python3",
      "display_name": "Python 3"
    },
    "language_info": {
      "name": "python"
    }
  },
  "cells": [
    {
      "cell_type": "markdown",
      "source": [
        "#**DBSCAN**\n"
      ],
      "metadata": {
        "id": "WLQzuoxi9Nfq"
      }
    },
    {
      "cell_type": "markdown",
      "source": [
        "#Step 1 : Import Libraries\n",
        "\n"
      ],
      "metadata": {
        "id": "_3zW-i7I9O_b"
      }
    },
    {
      "cell_type": "code",
      "execution_count": null,
      "metadata": {
        "id": "cAhG72k89JCs"
      },
      "outputs": [],
      "source": [
        "import matplotlib.pyplot as plt\n",
        "import numpy as np\n",
        "from sklearn.cluster import DBSCAN\n",
        "from sklearn import metrics\n",
        "from sklearn.datasets import make_blobs\n",
        "from sklearn.preprocessing import StandardScaler\n",
        "from sklearn import datasets"
      ]
    },
    {
      "cell_type": "markdown",
      "source": [
        "#Step 2 : Prepare dataset\n",
        "###**use make blobs with different numbers**\n",
        "\n"
      ],
      "metadata": {
        "id": "5Knv40zd9TeJ"
      }
    },
    {
      "cell_type": "code",
      "source": [
        "X, y_true = make_blobs(n_samples=300, centers=4,\n",
        "                       cluster_std=0.50, random_state=0)"
      ],
      "metadata": {
        "id": "NqEujM0J9TCn"
      },
      "execution_count": null,
      "outputs": []
    },
    {
      "cell_type": "markdown",
      "source": [
        "#Step 3 : Modeling The Data Using DBSCAN\n",
        "\n"
      ],
      "metadata": {
        "id": "8GtmnKoI9kNm"
      }
    },
    {
      "cell_type": "code",
      "source": [
        "db = DBSCAN(eps=0.3, min_samples=10).fit(X)\n",
        "core_samples_mask = np.zeros_like(db.labels_, dtype=bool)\n",
        "core_samples_mask[db.core_sample_indices_] = True\n",
        "labels = db.labels_\n",
        "\n",
        "# Number of clusters in labels, ignoring noise if present.\n",
        "n_clusters_ = len(set(labels)) - (1 if -1 in labels else 0)\n",
        "\n",
        "# Plot result\n",
        "\n",
        "# Black removed and is used for noise instead.\n",
        "unique_labels = set(labels)\n",
        "colors = ['y', 'b', 'g', 'r']\n",
        "print(colors)\n",
        "for k, col in zip(unique_labels, colors):\n",
        "    if k == -1:\n",
        "        # Black used for noise.\n",
        "        col = 'k'\n",
        "\n",
        "    class_member_mask = (labels == k)\n",
        "\n",
        "    xy = X[class_member_mask & core_samples_mask]\n",
        "    plt.plot(xy[:, 0], xy[:, 1], 'o', markerfacecolor=col,\n",
        "             markeredgecolor='k',\n",
        "             markersize=6)\n",
        "\n",
        "    xy = X[class_member_mask & ~core_samples_mask]\n",
        "    plt.plot(xy[:, 0], xy[:, 1], 'o', markerfacecolor=col,\n",
        "             markeredgecolor='k',\n",
        "             markersize=6)\n",
        "\n",
        "plt.title('number of clusters: %d' % n_clusters_)\n",
        "plt.show()\n"
      ],
      "metadata": {
        "id": "fOTAfBFA9i_y"
      },
      "execution_count": null,
      "outputs": []
    },
    {
      "cell_type": "markdown",
      "source": [
        "#Step 4 : Evaluation Metrics For DBSCAN Algorithm In Machine Learning\n"
      ],
      "metadata": {
        "id": "ijz9iIqa9u3g"
      }
    },
    {
      "cell_type": "code",
      "source": [
        "# evaluation metrics\n",
        "from sklearn import metrics\n",
        "sc = metrics.silhouette_score(X, labels)\n",
        "print(\"Silhouette Coefficient:%0.2f\" % sc)\n",
        "ari = metrics.adjusted_rand_score(y_true, labels) # Import adjusted_rand_score\n",
        "print(\"Adjusted Rand Index: %0.2f\" % ari)"
      ],
      "metadata": {
        "id": "PFmYeD5U9x2S"
      },
      "execution_count": null,
      "outputs": []
    },
    {
      "cell_type": "markdown",
      "source": [
        "#**Well Done :)**"
      ],
      "metadata": {
        "id": "ZzXNoxfh9-y9"
      }
    }
  ]
}